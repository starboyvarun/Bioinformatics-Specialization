{
 "cells": [
  {
   "cell_type": "code",
   "execution_count": null,
   "id": "91ac3805",
   "metadata": {},
   "outputs": [],
   "source": [
    "\"\"\"\n",
    "     Code Challenge: Implement PatternCount (reproduced below).\n",
    "                     Input: Strings Text and Pattern.\n",
    "                     Output: Count(Text, Pattern). \n",
    "\"\"\""
   ]
  },
  {
   "cell_type": "code",
   "execution_count": 3,
   "id": "a83aeb2e",
   "metadata": {},
   "outputs": [
    {
     "data": {
      "text/plain": [
       "'\\nPatternCount(Text, Pattern)\\n  count ← 0\\n  for i ← 0 to |Text| − |Pattern|\\n    if Text(i, |Pattern|) = Pattern\\n      count ← count + 1\\n  return count\\n'"
      ]
     },
     "execution_count": 3,
     "metadata": {},
     "output_type": "execute_result"
    }
   ],
   "source": [
    "\"\"\"\n",
    "PatternCount(Text, Pattern)\n",
    "  count ← 0\n",
    "  for i ← 0 to |Text| − |Pattern|\n",
    "    if Text(i, |Pattern|) = Pattern\n",
    "      count ← count + 1\n",
    "  return count\n",
    "\"\"\""
   ]
  },
  {
   "cell_type": "code",
   "execution_count": null,
   "id": "b5ce2e4a",
   "metadata": {},
   "outputs": [],
   "source": [
    "\"\"\"\n",
    "Enter Text= AGATACACGGTCCACACGGTACACGGTACACGGTGGTAGCAGGCAACACACGGTTAGTACACGGTATACACGGTACTCTTTTAACACGGTACACGGTACACGGTGTTACACGGTTACACGGTTGCACACGGTTTTAAACACGGTACACGACACGGTGACACGGTACACGGTTGGGACACGGTACACACGGTCAAAATACACGGTGCATAAGTCACACGGTTTACACGGTAGCCACACGGTGTTTGCTACACGGTACACGGTTCCGTGGACACGGTCTTCCGGTGTACACGGTCTTACACGGTCACACGGTTCCAACACGGTCACACGGTGACACGGTTGTAGAGGCGAACACGGTATACACGGTACACGGTCCACACGGTCACACGGTTAGAACACGGTATGAAATCGACACGGTCTACACGGTTCGGAACACGGTGTAACACGGTGGCACACGGTGCACACGGTTACACGGTCGTATTACACGGTCAAACACGGTACACACGGTACACGGTGTTACACGGTGGGGCACACGGTGGGAACACGGTTAACACGGTACACGGTAACACGGTGGCCTGGAAGCTCACACGGTACACGGTACACGGTTACCGGCATCCGACACGGTTCTACACGGTACACGGTCCTGACACGGTGATACACGGTACACGGTCCGAACACGGTCTCTACACGGTACACGGTGCGACCACACGGTCCTACACGGTACACGGTAGGAGCGGACACGGTGATCATGCATATACACGGTACACGGTCCCCAGAAACACGGTTGATACACACGGTACACGGTGAGTAGTACACGGTCGTAACACGGTACACGGTACACGGTAAACACGGTACACGGTCGTACACGGTGAACACACGGTCACACGGTCCAACACGGTGTAACTTGACACGGTTCTTTTCACACGGTTACACGGTCACACACGGTTATCAACACGGTTGACACGGTGCTACACGGTGACACGGTTCACACGGTTACACGGTGACACGGTACACGGTTGTACACGGTTTGCACGC\n",
    "\n",
    "Enter Pattern= ACACGGTAC\n",
    "\n",
    "\"\"\""
   ]
  },
  {
   "cell_type": "code",
   "execution_count": 4,
   "id": "4820b4a2",
   "metadata": {},
   "outputs": [
    {
     "name": "stdout",
     "output_type": "stream",
     "text": [
      "Enter text: AGATACACGGTCCACACGGTACACGGTACACGGTGGTAGCAGGCAACACACGGTTAGTACACGGTATACACGGTACTCTTTTAACACGGTACACGGTACACGGTGTTACACGGTTACACGGTTGCACACGGTTTTAAACACGGTACACGACACGGTGACACGGTACACGGTTGGGACACGGTACACACGGTCAAAATACACGGTGCATAAGTCACACGGTTTACACGGTAGCCACACGGTGTTTGCTACACGGTACACGGTTCCGTGGACACGGTCTTCCGGTGTACACGGTCTTACACGGTCACACGGTTCCAACACGGTCACACGGTGACACGGTTGTAGAGGCGAACACGGTATACACGGTACACGGTCCACACGGTCACACGGTTAGAACACGGTATGAAATCGACACGGTCTACACGGTTCGGAACACGGTGTAACACGGTGGCACACGGTGCACACGGTTACACGGTCGTATTACACGGTCAAACACGGTACACACGGTACACGGTGTTACACGGTGGGGCACACGGTGGGAACACGGTTAACACGGTACACGGTAACACGGTGGCCTGGAAGCTCACACGGTACACGGTACACGGTTACCGGCATCCGACACGGTTCTACACGGTACACGGTCCTGACACGGTGATACACGGTACACGGTCCGAACACGGTCTCTACACGGTACACGGTGCGACCACACGGTCCTACACGGTACACGGTAGGAGCGGACACGGTGATCATGCATATACACGGTACACGGTCCCCAGAAACACGGTTGATACACACGGTACACGGTGAGTAGTACACGGTCGTAACACGGTACACGGTACACGGTAAACACGGTACACGGTCGTACACGGTGAACACACGGTCACACGGTCCAACACGGTGTAACTTGACACGGTTCTTTTCACACGGTTACACGGTCACACACGGTTATCAACACGGTTGACACGGTGCTACACGGTGACACGGTTCACACGGTTACACGGTGACACGGTACACGGTTGTACACGGTTTGCACGC\n",
      "Enter pattern: ACACGGTAC\n",
      "Number of pattern frequency: 25\n"
     ]
    }
   ],
   "source": [
    "text = input('Enter text: ')\n",
    "pattern = input('Enter pattern: ')\n",
    "text_length = len(text)\n",
    "pattern_length = len(pattern)\n",
    "count = 0\n",
    "for i in range(text_length - pattern_length+1):\n",
    "    if text[i:i+pattern_length] == pattern:\n",
    "        count = count + 1\n",
    "print(\"Number of pattern frequency:\", count)"
   ]
  },
  {
   "cell_type": "code",
   "execution_count": null,
   "id": "caddf6c2",
   "metadata": {},
   "outputs": [],
   "source": []
  },
  {
   "cell_type": "code",
   "execution_count": null,
   "id": "44b8a8f9",
   "metadata": {},
   "outputs": [],
   "source": []
  }
 ],
 "metadata": {
  "kernelspec": {
   "display_name": "Python 3",
   "language": "python",
   "name": "python3"
  },
  "language_info": {
   "codemirror_mode": {
    "name": "ipython",
    "version": 3
   },
   "file_extension": ".py",
   "mimetype": "text/x-python",
   "name": "python",
   "nbconvert_exporter": "python",
   "pygments_lexer": "ipython3",
   "version": "3.9.4"
  }
 },
 "nbformat": 4,
 "nbformat_minor": 5
}
